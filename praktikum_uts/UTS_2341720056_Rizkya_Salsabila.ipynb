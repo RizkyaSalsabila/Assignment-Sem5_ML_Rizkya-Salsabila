{
  "nbformat": 4,
  "nbformat_minor": 0,
  "metadata": {
    "colab": {
      "provenance": [],
      "authorship_tag": "ABX9TyNw3WfpeNSuulClKUtj7Xa6",
      "include_colab_link": true
    },
    "kernelspec": {
      "name": "python3",
      "display_name": "Python 3"
    },
    "language_info": {
      "name": "python"
    }
  },
  "cells": [
    {
      "cell_type": "markdown",
      "metadata": {
        "id": "view-in-github",
        "colab_type": "text"
      },
      "source": [
        "<a href=\"https://colab.research.google.com/github/RizkyaSalsabila/Assignment-Sem5_ML_Rizkya-Salsabila/blob/main/praktikum_uts/UTS_2341720056_Rizkya_Salsabila.ipynb\" target=\"_parent\"><img src=\"https://colab.research.google.com/assets/colab-badge.svg\" alt=\"Open In Colab\"/></a>"
      ]
    },
    {
      "cell_type": "markdown",
      "source": [
        "### Langkah 1 - Menghubungkan Google Drive ke Colab"
      ],
      "metadata": {
        "id": "uRfrJFncozgK"
      }
    },
    {
      "cell_type": "code",
      "source": [
        "from google.colab import drive\n",
        "drive.mount('/content/drive')"
      ],
      "metadata": {
        "colab": {
          "base_uri": "https://localhost:8080/"
        },
        "id": "SzPh6-x5Wbo3",
        "outputId": "590c8f83-ecdf-4a3e-9592-9cc145c7027c"
      },
      "execution_count": null,
      "outputs": [
        {
          "output_type": "stream",
          "name": "stdout",
          "text": [
            "Mounted at /content/drive\n"
          ]
        }
      ]
    },
    {
      "cell_type": "markdown",
      "source": [
        "### Langkah 2 - Import Library beserta Instalasi"
      ],
      "metadata": {
        "id": "8klGhuyApVqW"
      }
    },
    {
      "cell_type": "code",
      "source": [
        "import pandas as pd\n",
        "import numpy as np\n",
        "import matplotlib.pyplot as plt\n",
        "from sklearn.preprocessing import StandardScaler\n",
        "from sklearn.cluster import KMeans, DBSCAN\n",
        "from sklearn.decomposition import PCA\n",
        "from sklearn.metrics import silhouette_score, davies_bouldin_score\n",
        "from annoy import AnnoyIndex"
      ],
      "metadata": {
        "id": "ebu-9o0qpdas"
      },
      "execution_count": null,
      "outputs": []
    },
    {
      "cell_type": "code",
      "source": [
        "!pip install annoy"
      ],
      "metadata": {
        "colab": {
          "base_uri": "https://localhost:8080/"
        },
        "id": "p-JUu-y9hytG",
        "outputId": "de584014-b2eb-477e-c676-bcd042ca2e9f"
      },
      "execution_count": null,
      "outputs": [
        {
          "output_type": "stream",
          "name": "stdout",
          "text": [
            "Collecting annoy\n",
            "  Downloading annoy-1.17.3.tar.gz (647 kB)\n",
            "\u001b[?25l     \u001b[90m━━━━━━━━━━━━━━━━━━━━━━━━━━━━━━━━━━━━━━━━\u001b[0m \u001b[32m0.0/647.5 kB\u001b[0m \u001b[31m?\u001b[0m eta \u001b[36m-:--:--\u001b[0m\r\u001b[2K     \u001b[90m━━━━━━━━━━━━━━━━━━━━━━━━━━━━━━━━━━━━━━\u001b[0m \u001b[32m647.5/647.5 kB\u001b[0m \u001b[31m38.2 MB/s\u001b[0m eta \u001b[36m0:00:00\u001b[0m\n",
            "\u001b[?25h  Preparing metadata (setup.py) ... \u001b[?25l\u001b[?25hdone\n",
            "Building wheels for collected packages: annoy\n",
            "  Building wheel for annoy (setup.py) ... \u001b[?25l\u001b[?25hdone\n",
            "  Created wheel for annoy: filename=annoy-1.17.3-cp312-cp312-linux_x86_64.whl size=551810 sha256=6b41e9110fdeafa89cee5c2971db3eca2e9f0a16c73c7eec8ae6e03d2abfa1f0\n",
            "  Stored in directory: /root/.cache/pip/wheels/db/b9/53/a3b2d1fe1743abadddec6aa541294b24fdbc39d7800bc57311\n",
            "Successfully built annoy\n",
            "Installing collected packages: annoy\n",
            "Successfully installed annoy-1.17.3\n"
          ]
        }
      ]
    },
    {
      "cell_type": "markdown",
      "source": [
        "# SOAL 1 : Penjelasan singkat dataset (jumlah sampel, fitur, tipe data)."
      ],
      "metadata": {
        "id": "s3oS3KtjWRV9"
      }
    },
    {
      "cell_type": "markdown",
      "source": [
        "## Upload atau load dataset"
      ],
      "metadata": {
        "id": "Ho4yKa0OXSS1"
      }
    },
    {
      "cell_type": "code",
      "execution_count": null,
      "metadata": {
        "colab": {
          "base_uri": "https://localhost:8080/"
        },
        "id": "4bJhyBlMTtM6",
        "outputId": "703049d5-8aef-4ab3-e617-169e57f23d8a"
      },
      "outputs": [
        {
          "output_type": "stream",
          "name": "stdout",
          "text": [
            "   ID  LIMIT_BAL  SEX  EDUCATION  MARRIAGE  AGE  PAY_0  PAY_2  PAY_3  PAY_4  \\\n",
            "0   1    20000.0    2          2         1   24      2      2     -1     -1   \n",
            "1   2   120000.0    2          2         2   26     -1      2      0      0   \n",
            "2   3    90000.0    2          2         2   34      0      0      0      0   \n",
            "3   4    50000.0    2          2         1   37      0      0      0      0   \n",
            "4   5    50000.0    1          2         1   57     -1      0     -1      0   \n",
            "\n",
            "   ...  BILL_AMT4  BILL_AMT5  BILL_AMT6  PAY_AMT1  PAY_AMT2  PAY_AMT3  \\\n",
            "0  ...        0.0        0.0        0.0       0.0     689.0       0.0   \n",
            "1  ...     3272.0     3455.0     3261.0       0.0    1000.0    1000.0   \n",
            "2  ...    14331.0    14948.0    15549.0    1518.0    1500.0    1000.0   \n",
            "3  ...    28314.0    28959.0    29547.0    2000.0    2019.0    1200.0   \n",
            "4  ...    20940.0    19146.0    19131.0    2000.0   36681.0   10000.0   \n",
            "\n",
            "   PAY_AMT4  PAY_AMT5  PAY_AMT6  default.payment.next.month  \n",
            "0       0.0       0.0       0.0                           1  \n",
            "1    1000.0       0.0    2000.0                           1  \n",
            "2    1000.0    1000.0    5000.0                           0  \n",
            "3    1100.0    1069.0    1000.0                           0  \n",
            "4    9000.0     689.0     679.0                           0  \n",
            "\n",
            "[5 rows x 25 columns]\n"
          ]
        }
      ],
      "source": [
        "# Load dataset CSV\n",
        "df = pd.read_csv('/content/drive/MyDrive/RIZKYA S/SEMESTER_5/ML/NEED/UCI_Credit_Card.csv')\n",
        "\n",
        "# Lihat 5 baris pertama\n",
        "print(df.head())"
      ]
    },
    {
      "cell_type": "code",
      "source": [
        "# a. Lihat jumlah sampel dan fitur\n",
        "print(\"Jumlah sampel:\", df.shape[0])\n",
        "print(\"Jumlah fitur:\", df.shape[1])"
      ],
      "metadata": {
        "colab": {
          "base_uri": "https://localhost:8080/"
        },
        "id": "JCK32vm8YNs5",
        "outputId": "c6bd8a13-3f75-48bd-96c1-f6e97fd2ea20"
      },
      "execution_count": null,
      "outputs": [
        {
          "output_type": "stream",
          "name": "stdout",
          "text": [
            "Jumlah sampel: 30000\n",
            "Jumlah fitur: 25\n"
          ]
        }
      ]
    },
    {
      "cell_type": "markdown",
      "source": [
        "Penjelasan:\n",
        "\n",
        "Dataset memiliki 30.000 baris (sampel lagu) dan 25 kolom (fitur),\n",
        "yang mencakup atribut numerik dan kategorikal yang akan digunakan\n",
        "untuk clustering dan analisis lebih lanjut.\n"
      ],
      "metadata": {
        "id": "FoZuKBbtp8AN"
      }
    },
    {
      "cell_type": "code",
      "source": [
        "# b. Lihat tipe data tiap kolom\n",
        "print(df.dtypes)"
      ],
      "metadata": {
        "colab": {
          "base_uri": "https://localhost:8080/"
        },
        "id": "kmhk3I8rYRpH",
        "outputId": "95b9e111-1fa6-4853-d484-7210a530677c"
      },
      "execution_count": null,
      "outputs": [
        {
          "output_type": "stream",
          "name": "stdout",
          "text": [
            "ID                              int64\n",
            "LIMIT_BAL                     float64\n",
            "SEX                             int64\n",
            "EDUCATION                       int64\n",
            "MARRIAGE                        int64\n",
            "AGE                             int64\n",
            "PAY_0                           int64\n",
            "PAY_2                           int64\n",
            "PAY_3                           int64\n",
            "PAY_4                           int64\n",
            "PAY_5                           int64\n",
            "PAY_6                           int64\n",
            "BILL_AMT1                     float64\n",
            "BILL_AMT2                     float64\n",
            "BILL_AMT3                     float64\n",
            "BILL_AMT4                     float64\n",
            "BILL_AMT5                     float64\n",
            "BILL_AMT6                     float64\n",
            "PAY_AMT1                      float64\n",
            "PAY_AMT2                      float64\n",
            "PAY_AMT3                      float64\n",
            "PAY_AMT4                      float64\n",
            "PAY_AMT5                      float64\n",
            "PAY_AMT6                      float64\n",
            "default.payment.next.month      int64\n",
            "dtype: object\n"
          ]
        }
      ]
    },
    {
      "cell_type": "markdown",
      "source": [
        "Penjelasan:\n",
        "\n",
        "Dataset ini memiliki kombinasi tipe data numerik (int64 dan float64) sebagai berikut:\n",
        "\n",
        "=> Kolom ID, SEX, EDUCATION, MARRIAGE, AGE, PAY_0 sampai PAY_6, dan target 'default.payment.next.month' adalah integer (int64).\n",
        "\n",
        "=> Kolom LIMIT_BAL, BILL_AMT1-6, PAY_AMT1-6 adalah float64, merepresentasikan jumlah uang atau saldo."
      ],
      "metadata": {
        "id": "fwms0XJ4qkTg"
      }
    },
    {
      "cell_type": "code",
      "source": [
        "# c. Statistik deskriptif (numerik)\n",
        "print(df.describe())"
      ],
      "metadata": {
        "colab": {
          "base_uri": "https://localhost:8080/"
        },
        "id": "JdUH3wQ8YXSS",
        "outputId": "ff6be397-0a9c-4311-ee7d-28437763ac70"
      },
      "execution_count": null,
      "outputs": [
        {
          "output_type": "stream",
          "name": "stdout",
          "text": [
            "                 ID       LIMIT_BAL           SEX     EDUCATION      MARRIAGE  \\\n",
            "count  30000.000000    30000.000000  30000.000000  30000.000000  30000.000000   \n",
            "mean   15000.500000   167484.322667      1.603733      1.853133      1.551867   \n",
            "std     8660.398374   129747.661567      0.489129      0.790349      0.521970   \n",
            "min        1.000000    10000.000000      1.000000      0.000000      0.000000   \n",
            "25%     7500.750000    50000.000000      1.000000      1.000000      1.000000   \n",
            "50%    15000.500000   140000.000000      2.000000      2.000000      2.000000   \n",
            "75%    22500.250000   240000.000000      2.000000      2.000000      2.000000   \n",
            "max    30000.000000  1000000.000000      2.000000      6.000000      3.000000   \n",
            "\n",
            "                AGE         PAY_0         PAY_2         PAY_3         PAY_4  \\\n",
            "count  30000.000000  30000.000000  30000.000000  30000.000000  30000.000000   \n",
            "mean      35.485500     -0.016700     -0.133767     -0.166200     -0.220667   \n",
            "std        9.217904      1.123802      1.197186      1.196868      1.169139   \n",
            "min       21.000000     -2.000000     -2.000000     -2.000000     -2.000000   \n",
            "25%       28.000000     -1.000000     -1.000000     -1.000000     -1.000000   \n",
            "50%       34.000000      0.000000      0.000000      0.000000      0.000000   \n",
            "75%       41.000000      0.000000      0.000000      0.000000      0.000000   \n",
            "max       79.000000      8.000000      8.000000      8.000000      8.000000   \n",
            "\n",
            "       ...      BILL_AMT4      BILL_AMT5      BILL_AMT6       PAY_AMT1  \\\n",
            "count  ...   30000.000000   30000.000000   30000.000000   30000.000000   \n",
            "mean   ...   43262.948967   40311.400967   38871.760400    5663.580500   \n",
            "std    ...   64332.856134   60797.155770   59554.107537   16563.280354   \n",
            "min    ... -170000.000000  -81334.000000 -339603.000000       0.000000   \n",
            "25%    ...    2326.750000    1763.000000    1256.000000    1000.000000   \n",
            "50%    ...   19052.000000   18104.500000   17071.000000    2100.000000   \n",
            "75%    ...   54506.000000   50190.500000   49198.250000    5006.000000   \n",
            "max    ...  891586.000000  927171.000000  961664.000000  873552.000000   \n",
            "\n",
            "           PAY_AMT2      PAY_AMT3       PAY_AMT4       PAY_AMT5  \\\n",
            "count  3.000000e+04   30000.00000   30000.000000   30000.000000   \n",
            "mean   5.921163e+03    5225.68150    4826.076867    4799.387633   \n",
            "std    2.304087e+04   17606.96147   15666.159744   15278.305679   \n",
            "min    0.000000e+00       0.00000       0.000000       0.000000   \n",
            "25%    8.330000e+02     390.00000     296.000000     252.500000   \n",
            "50%    2.009000e+03    1800.00000    1500.000000    1500.000000   \n",
            "75%    5.000000e+03    4505.00000    4013.250000    4031.500000   \n",
            "max    1.684259e+06  896040.00000  621000.000000  426529.000000   \n",
            "\n",
            "            PAY_AMT6  default.payment.next.month  \n",
            "count   30000.000000                30000.000000  \n",
            "mean     5215.502567                    0.221200  \n",
            "std     17777.465775                    0.415062  \n",
            "min         0.000000                    0.000000  \n",
            "25%       117.750000                    0.000000  \n",
            "50%      1500.000000                    0.000000  \n",
            "75%      4000.000000                    0.000000  \n",
            "max    528666.000000                    1.000000  \n",
            "\n",
            "[8 rows x 25 columns]\n"
          ]
        }
      ]
    },
    {
      "cell_type": "markdown",
      "source": [
        "Penjelasan :\n",
        "\n",
        "Dataset memiliki 30.000 sampel dan 25 fitur numerik yang mencakup atribut demografis, histori pembayaran, saldo, dan target klasifikasi. Kolom ID berfungsi sebagai identifier unik, kolom LIMIT_BAL, BILL_AMT1-6, PAY_AMT1-6 merepresentasikan jumlah uang dengan beberapa outlier yang tinggi, sedangkan kolom SEX, EDUCATION, MARRIAGE, AGE, PAY_0-6 menunjukkan informasi demografis dan histori pembayaran. Target default.payment.next.month memiliki proporsi default sekitar 22%. Statistik deskriptif ini penting untuk memahami distribusi, rentang, dan skala fitur, serta menjadi dasar bagi langkah preprocessing seperti normalisasi dan clustering."
      ],
      "metadata": {
        "id": "BughSiYorC5P"
      }
    },
    {
      "cell_type": "markdown",
      "source": [
        "# SOAL 2 : Proses preprocessing (missing values, normalisasi, pembuatan fitur baru)"
      ],
      "metadata": {
        "id": "opQfMKtpaULQ"
      }
    },
    {
      "cell_type": "markdown",
      "source": [
        "### a. Missing Value"
      ],
      "metadata": {
        "id": "K_-ybKZprmbN"
      }
    },
    {
      "cell_type": "code",
      "source": [
        "# Cek missing value\n",
        "print(df.isnull().sum())"
      ],
      "metadata": {
        "colab": {
          "base_uri": "https://localhost:8080/"
        },
        "id": "osTPK4zeXqZc",
        "outputId": "c6ed1bf8-dc73-4d2f-9b5d-53e933b187cc"
      },
      "execution_count": null,
      "outputs": [
        {
          "output_type": "stream",
          "name": "stdout",
          "text": [
            "ID                            0\n",
            "LIMIT_BAL                     0\n",
            "SEX                           0\n",
            "EDUCATION                     0\n",
            "MARRIAGE                      0\n",
            "AGE                           0\n",
            "PAY_0                         0\n",
            "PAY_2                         0\n",
            "PAY_3                         0\n",
            "PAY_4                         0\n",
            "PAY_5                         0\n",
            "PAY_6                         0\n",
            "BILL_AMT1                     0\n",
            "BILL_AMT2                     0\n",
            "BILL_AMT3                     0\n",
            "BILL_AMT4                     0\n",
            "BILL_AMT5                     0\n",
            "BILL_AMT6                     0\n",
            "PAY_AMT1                      0\n",
            "PAY_AMT2                      0\n",
            "PAY_AMT3                      0\n",
            "PAY_AMT4                      0\n",
            "PAY_AMT5                      0\n",
            "PAY_AMT6                      0\n",
            "default.payment.next.month    0\n",
            "dtype: int64\n"
          ]
        }
      ]
    },
    {
      "cell_type": "markdown",
      "source": [
        "Penjelasan :\n",
        "\n",
        "Setelah dilakukan pengecekan, tidak ditemukan missing value pada seluruh 25 kolom dataset. Hal ini menunjukkan bahwa semua data sudah lengkap, sehingga tidak diperlukan langkah imputasi atau penghapusan data akibat nilai yang hilang."
      ],
      "metadata": {
        "id": "5SkXVOVRr90v"
      }
    },
    {
      "cell_type": "markdown",
      "source": [
        "### b. Pembuatan fitur baru"
      ],
      "metadata": {
        "id": "oLg1iWWlsJDM"
      }
    },
    {
      "cell_type": "code",
      "source": [
        "# Total tagihan dan pembayaran\n",
        "df['TOTAL_BILL'] = df[['BILL_AMT1','BILL_AMT2','BILL_AMT3','BILL_AMT4','BILL_AMT5','BILL_AMT6']].sum(axis=1)\n",
        "df['TOTAL_PAY']  = df[['PAY_AMT1','PAY_AMT2','PAY_AMT3','PAY_AMT4','PAY_AMT5','PAY_AMT6']].sum(axis=1)\n",
        "\n",
        "# Rasio pembayaran terhadap tagihan (hindari div 0)\n",
        "df['PAY_RATIO'] = df['TOTAL_PAY'] / df['TOTAL_BILL'].replace(0, np.nan)\n",
        "df['PAY_RATIO'] = df['PAY_RATIO'].fillna(0)\n",
        "\n",
        "# Rasio tagihan terhadap limit kredit\n",
        "df['BILL_RATIO'] = df['TOTAL_BILL'] / df['LIMIT_BAL'].replace(0, np.nan)\n",
        "df['BILL_RATIO'] = df['BILL_RATIO'].fillna(0)\n",
        "\n",
        "# Rata-rata keterlambatan pembayaran\n",
        "df['AVG_DELAY'] = df[['PAY_0','PAY_2','PAY_3','PAY_4','PAY_5','PAY_6']].apply(lambda x: x[x>0].mean(), axis=1)\n",
        "df['AVG_DELAY'] = df['AVG_DELAY'].fillna(0)\n",
        "\n",
        "# Jumlah bulan telat bayar\n",
        "df['NUM_LATE_MONTHS'] = df[['PAY_0','PAY_2','PAY_3','PAY_4','PAY_5','PAY_6']].apply(lambda x: (x>0).sum(), axis=1)\n",
        "\n",
        "# Rasio sisa tagihan yang belum dibayar\n",
        "df['UNPAID_RATIO'] = (df['TOTAL_BILL'] - df['TOTAL_PAY']) / df['LIMIT_BAL'].replace(0, np.nan)\n",
        "df['UNPAID_RATIO'] = df['UNPAID_RATIO'].fillna(0)\n",
        "\n",
        "# Usia dalam kategori\n",
        "df['AGE_GROUP'] = pd.cut(df['AGE'], bins=[20,30,40,50,60,100], labels=['20s','30s','40s','50s','60+'])\n",
        "\n",
        "df.head()"
      ],
      "metadata": {
        "colab": {
          "base_uri": "https://localhost:8080/",
          "height": 236
        },
        "id": "tS4RqO_dagM2",
        "outputId": "6c9c69b8-1e52-4149-e0e4-357e5e92a4ce"
      },
      "execution_count": null,
      "outputs": [
        {
          "output_type": "execute_result",
          "data": {
            "text/plain": [
              "   ID  LIMIT_BAL  SEX  EDUCATION  MARRIAGE  AGE  PAY_0  PAY_2  PAY_3  PAY_4  \\\n",
              "0   1    20000.0    2          2         1   24      2      2     -1     -1   \n",
              "1   2   120000.0    2          2         2   26     -1      2      0      0   \n",
              "2   3    90000.0    2          2         2   34      0      0      0      0   \n",
              "3   4    50000.0    2          2         1   37      0      0      0      0   \n",
              "4   5    50000.0    1          2         1   57     -1      0     -1      0   \n",
              "\n",
              "   ...  PAY_AMT6  default.payment.next.month  TOTAL_BILL  TOTAL_PAY  \\\n",
              "0  ...       0.0                           1      7704.0      689.0   \n",
              "1  ...    2000.0                           1     17077.0     5000.0   \n",
              "2  ...    5000.0                           0    101653.0    11018.0   \n",
              "3  ...    1000.0                           0    231334.0     8388.0   \n",
              "4  ...     679.0                           0    109339.0    59049.0   \n",
              "\n",
              "   PAY_RATIO  BILL_RATIO  AVG_DELAY  NUM_LATE_MONTHS  UNPAID_RATIO  AGE_GROUP  \n",
              "0   0.089434    0.385200        2.0                2      0.350750        20s  \n",
              "1   0.292791    0.142308        2.0                2      0.100642        20s  \n",
              "2   0.108388    1.129478        0.0                0      1.007056        30s  \n",
              "3   0.036259    4.626680        0.0                0      4.458920        30s  \n",
              "4   0.540054    2.186780        0.0                0      1.005800        50s  \n",
              "\n",
              "[5 rows x 33 columns]"
            ],
            "text/html": [
              "\n",
              "  <div id=\"df-5fe67e40-b722-484c-885c-66735928e81a\" class=\"colab-df-container\">\n",
              "    <div>\n",
              "<style scoped>\n",
              "    .dataframe tbody tr th:only-of-type {\n",
              "        vertical-align: middle;\n",
              "    }\n",
              "\n",
              "    .dataframe tbody tr th {\n",
              "        vertical-align: top;\n",
              "    }\n",
              "\n",
              "    .dataframe thead th {\n",
              "        text-align: right;\n",
              "    }\n",
              "</style>\n",
              "<table border=\"1\" class=\"dataframe\">\n",
              "  <thead>\n",
              "    <tr style=\"text-align: right;\">\n",
              "      <th></th>\n",
              "      <th>ID</th>\n",
              "      <th>LIMIT_BAL</th>\n",
              "      <th>SEX</th>\n",
              "      <th>EDUCATION</th>\n",
              "      <th>MARRIAGE</th>\n",
              "      <th>AGE</th>\n",
              "      <th>PAY_0</th>\n",
              "      <th>PAY_2</th>\n",
              "      <th>PAY_3</th>\n",
              "      <th>PAY_4</th>\n",
              "      <th>...</th>\n",
              "      <th>PAY_AMT6</th>\n",
              "      <th>default.payment.next.month</th>\n",
              "      <th>TOTAL_BILL</th>\n",
              "      <th>TOTAL_PAY</th>\n",
              "      <th>PAY_RATIO</th>\n",
              "      <th>BILL_RATIO</th>\n",
              "      <th>AVG_DELAY</th>\n",
              "      <th>NUM_LATE_MONTHS</th>\n",
              "      <th>UNPAID_RATIO</th>\n",
              "      <th>AGE_GROUP</th>\n",
              "    </tr>\n",
              "  </thead>\n",
              "  <tbody>\n",
              "    <tr>\n",
              "      <th>0</th>\n",
              "      <td>1</td>\n",
              "      <td>20000.0</td>\n",
              "      <td>2</td>\n",
              "      <td>2</td>\n",
              "      <td>1</td>\n",
              "      <td>24</td>\n",
              "      <td>2</td>\n",
              "      <td>2</td>\n",
              "      <td>-1</td>\n",
              "      <td>-1</td>\n",
              "      <td>...</td>\n",
              "      <td>0.0</td>\n",
              "      <td>1</td>\n",
              "      <td>7704.0</td>\n",
              "      <td>689.0</td>\n",
              "      <td>0.089434</td>\n",
              "      <td>0.385200</td>\n",
              "      <td>2.0</td>\n",
              "      <td>2</td>\n",
              "      <td>0.350750</td>\n",
              "      <td>20s</td>\n",
              "    </tr>\n",
              "    <tr>\n",
              "      <th>1</th>\n",
              "      <td>2</td>\n",
              "      <td>120000.0</td>\n",
              "      <td>2</td>\n",
              "      <td>2</td>\n",
              "      <td>2</td>\n",
              "      <td>26</td>\n",
              "      <td>-1</td>\n",
              "      <td>2</td>\n",
              "      <td>0</td>\n",
              "      <td>0</td>\n",
              "      <td>...</td>\n",
              "      <td>2000.0</td>\n",
              "      <td>1</td>\n",
              "      <td>17077.0</td>\n",
              "      <td>5000.0</td>\n",
              "      <td>0.292791</td>\n",
              "      <td>0.142308</td>\n",
              "      <td>2.0</td>\n",
              "      <td>2</td>\n",
              "      <td>0.100642</td>\n",
              "      <td>20s</td>\n",
              "    </tr>\n",
              "    <tr>\n",
              "      <th>2</th>\n",
              "      <td>3</td>\n",
              "      <td>90000.0</td>\n",
              "      <td>2</td>\n",
              "      <td>2</td>\n",
              "      <td>2</td>\n",
              "      <td>34</td>\n",
              "      <td>0</td>\n",
              "      <td>0</td>\n",
              "      <td>0</td>\n",
              "      <td>0</td>\n",
              "      <td>...</td>\n",
              "      <td>5000.0</td>\n",
              "      <td>0</td>\n",
              "      <td>101653.0</td>\n",
              "      <td>11018.0</td>\n",
              "      <td>0.108388</td>\n",
              "      <td>1.129478</td>\n",
              "      <td>0.0</td>\n",
              "      <td>0</td>\n",
              "      <td>1.007056</td>\n",
              "      <td>30s</td>\n",
              "    </tr>\n",
              "    <tr>\n",
              "      <th>3</th>\n",
              "      <td>4</td>\n",
              "      <td>50000.0</td>\n",
              "      <td>2</td>\n",
              "      <td>2</td>\n",
              "      <td>1</td>\n",
              "      <td>37</td>\n",
              "      <td>0</td>\n",
              "      <td>0</td>\n",
              "      <td>0</td>\n",
              "      <td>0</td>\n",
              "      <td>...</td>\n",
              "      <td>1000.0</td>\n",
              "      <td>0</td>\n",
              "      <td>231334.0</td>\n",
              "      <td>8388.0</td>\n",
              "      <td>0.036259</td>\n",
              "      <td>4.626680</td>\n",
              "      <td>0.0</td>\n",
              "      <td>0</td>\n",
              "      <td>4.458920</td>\n",
              "      <td>30s</td>\n",
              "    </tr>\n",
              "    <tr>\n",
              "      <th>4</th>\n",
              "      <td>5</td>\n",
              "      <td>50000.0</td>\n",
              "      <td>1</td>\n",
              "      <td>2</td>\n",
              "      <td>1</td>\n",
              "      <td>57</td>\n",
              "      <td>-1</td>\n",
              "      <td>0</td>\n",
              "      <td>-1</td>\n",
              "      <td>0</td>\n",
              "      <td>...</td>\n",
              "      <td>679.0</td>\n",
              "      <td>0</td>\n",
              "      <td>109339.0</td>\n",
              "      <td>59049.0</td>\n",
              "      <td>0.540054</td>\n",
              "      <td>2.186780</td>\n",
              "      <td>0.0</td>\n",
              "      <td>0</td>\n",
              "      <td>1.005800</td>\n",
              "      <td>50s</td>\n",
              "    </tr>\n",
              "  </tbody>\n",
              "</table>\n",
              "<p>5 rows × 33 columns</p>\n",
              "</div>\n",
              "    <div class=\"colab-df-buttons\">\n",
              "\n",
              "  <div class=\"colab-df-container\">\n",
              "    <button class=\"colab-df-convert\" onclick=\"convertToInteractive('df-5fe67e40-b722-484c-885c-66735928e81a')\"\n",
              "            title=\"Convert this dataframe to an interactive table.\"\n",
              "            style=\"display:none;\">\n",
              "\n",
              "  <svg xmlns=\"http://www.w3.org/2000/svg\" height=\"24px\" viewBox=\"0 -960 960 960\">\n",
              "    <path d=\"M120-120v-720h720v720H120Zm60-500h600v-160H180v160Zm220 220h160v-160H400v160Zm0 220h160v-160H400v160ZM180-400h160v-160H180v160Zm440 0h160v-160H620v160ZM180-180h160v-160H180v160Zm440 0h160v-160H620v160Z\"/>\n",
              "  </svg>\n",
              "    </button>\n",
              "\n",
              "  <style>\n",
              "    .colab-df-container {\n",
              "      display:flex;\n",
              "      gap: 12px;\n",
              "    }\n",
              "\n",
              "    .colab-df-convert {\n",
              "      background-color: #E8F0FE;\n",
              "      border: none;\n",
              "      border-radius: 50%;\n",
              "      cursor: pointer;\n",
              "      display: none;\n",
              "      fill: #1967D2;\n",
              "      height: 32px;\n",
              "      padding: 0 0 0 0;\n",
              "      width: 32px;\n",
              "    }\n",
              "\n",
              "    .colab-df-convert:hover {\n",
              "      background-color: #E2EBFA;\n",
              "      box-shadow: 0px 1px 2px rgba(60, 64, 67, 0.3), 0px 1px 3px 1px rgba(60, 64, 67, 0.15);\n",
              "      fill: #174EA6;\n",
              "    }\n",
              "\n",
              "    .colab-df-buttons div {\n",
              "      margin-bottom: 4px;\n",
              "    }\n",
              "\n",
              "    [theme=dark] .colab-df-convert {\n",
              "      background-color: #3B4455;\n",
              "      fill: #D2E3FC;\n",
              "    }\n",
              "\n",
              "    [theme=dark] .colab-df-convert:hover {\n",
              "      background-color: #434B5C;\n",
              "      box-shadow: 0px 1px 3px 1px rgba(0, 0, 0, 0.15);\n",
              "      filter: drop-shadow(0px 1px 2px rgba(0, 0, 0, 0.3));\n",
              "      fill: #FFFFFF;\n",
              "    }\n",
              "  </style>\n",
              "\n",
              "    <script>\n",
              "      const buttonEl =\n",
              "        document.querySelector('#df-5fe67e40-b722-484c-885c-66735928e81a button.colab-df-convert');\n",
              "      buttonEl.style.display =\n",
              "        google.colab.kernel.accessAllowed ? 'block' : 'none';\n",
              "\n",
              "      async function convertToInteractive(key) {\n",
              "        const element = document.querySelector('#df-5fe67e40-b722-484c-885c-66735928e81a');\n",
              "        const dataTable =\n",
              "          await google.colab.kernel.invokeFunction('convertToInteractive',\n",
              "                                                    [key], {});\n",
              "        if (!dataTable) return;\n",
              "\n",
              "        const docLinkHtml = 'Like what you see? Visit the ' +\n",
              "          '<a target=\"_blank\" href=https://colab.research.google.com/notebooks/data_table.ipynb>data table notebook</a>'\n",
              "          + ' to learn more about interactive tables.';\n",
              "        element.innerHTML = '';\n",
              "        dataTable['output_type'] = 'display_data';\n",
              "        await google.colab.output.renderOutput(dataTable, element);\n",
              "        const docLink = document.createElement('div');\n",
              "        docLink.innerHTML = docLinkHtml;\n",
              "        element.appendChild(docLink);\n",
              "      }\n",
              "    </script>\n",
              "  </div>\n",
              "\n",
              "\n",
              "    <div id=\"df-bd7dc692-7d4b-4be7-8ef6-99ca21157e3b\">\n",
              "      <button class=\"colab-df-quickchart\" onclick=\"quickchart('df-bd7dc692-7d4b-4be7-8ef6-99ca21157e3b')\"\n",
              "                title=\"Suggest charts\"\n",
              "                style=\"display:none;\">\n",
              "\n",
              "<svg xmlns=\"http://www.w3.org/2000/svg\" height=\"24px\"viewBox=\"0 0 24 24\"\n",
              "     width=\"24px\">\n",
              "    <g>\n",
              "        <path d=\"M19 3H5c-1.1 0-2 .9-2 2v14c0 1.1.9 2 2 2h14c1.1 0 2-.9 2-2V5c0-1.1-.9-2-2-2zM9 17H7v-7h2v7zm4 0h-2V7h2v10zm4 0h-2v-4h2v4z\"/>\n",
              "    </g>\n",
              "</svg>\n",
              "      </button>\n",
              "\n",
              "<style>\n",
              "  .colab-df-quickchart {\n",
              "      --bg-color: #E8F0FE;\n",
              "      --fill-color: #1967D2;\n",
              "      --hover-bg-color: #E2EBFA;\n",
              "      --hover-fill-color: #174EA6;\n",
              "      --disabled-fill-color: #AAA;\n",
              "      --disabled-bg-color: #DDD;\n",
              "  }\n",
              "\n",
              "  [theme=dark] .colab-df-quickchart {\n",
              "      --bg-color: #3B4455;\n",
              "      --fill-color: #D2E3FC;\n",
              "      --hover-bg-color: #434B5C;\n",
              "      --hover-fill-color: #FFFFFF;\n",
              "      --disabled-bg-color: #3B4455;\n",
              "      --disabled-fill-color: #666;\n",
              "  }\n",
              "\n",
              "  .colab-df-quickchart {\n",
              "    background-color: var(--bg-color);\n",
              "    border: none;\n",
              "    border-radius: 50%;\n",
              "    cursor: pointer;\n",
              "    display: none;\n",
              "    fill: var(--fill-color);\n",
              "    height: 32px;\n",
              "    padding: 0;\n",
              "    width: 32px;\n",
              "  }\n",
              "\n",
              "  .colab-df-quickchart:hover {\n",
              "    background-color: var(--hover-bg-color);\n",
              "    box-shadow: 0 1px 2px rgba(60, 64, 67, 0.3), 0 1px 3px 1px rgba(60, 64, 67, 0.15);\n",
              "    fill: var(--button-hover-fill-color);\n",
              "  }\n",
              "\n",
              "  .colab-df-quickchart-complete:disabled,\n",
              "  .colab-df-quickchart-complete:disabled:hover {\n",
              "    background-color: var(--disabled-bg-color);\n",
              "    fill: var(--disabled-fill-color);\n",
              "    box-shadow: none;\n",
              "  }\n",
              "\n",
              "  .colab-df-spinner {\n",
              "    border: 2px solid var(--fill-color);\n",
              "    border-color: transparent;\n",
              "    border-bottom-color: var(--fill-color);\n",
              "    animation:\n",
              "      spin 1s steps(1) infinite;\n",
              "  }\n",
              "\n",
              "  @keyframes spin {\n",
              "    0% {\n",
              "      border-color: transparent;\n",
              "      border-bottom-color: var(--fill-color);\n",
              "      border-left-color: var(--fill-color);\n",
              "    }\n",
              "    20% {\n",
              "      border-color: transparent;\n",
              "      border-left-color: var(--fill-color);\n",
              "      border-top-color: var(--fill-color);\n",
              "    }\n",
              "    30% {\n",
              "      border-color: transparent;\n",
              "      border-left-color: var(--fill-color);\n",
              "      border-top-color: var(--fill-color);\n",
              "      border-right-color: var(--fill-color);\n",
              "    }\n",
              "    40% {\n",
              "      border-color: transparent;\n",
              "      border-right-color: var(--fill-color);\n",
              "      border-top-color: var(--fill-color);\n",
              "    }\n",
              "    60% {\n",
              "      border-color: transparent;\n",
              "      border-right-color: var(--fill-color);\n",
              "    }\n",
              "    80% {\n",
              "      border-color: transparent;\n",
              "      border-right-color: var(--fill-color);\n",
              "      border-bottom-color: var(--fill-color);\n",
              "    }\n",
              "    90% {\n",
              "      border-color: transparent;\n",
              "      border-bottom-color: var(--fill-color);\n",
              "    }\n",
              "  }\n",
              "</style>\n",
              "\n",
              "      <script>\n",
              "        async function quickchart(key) {\n",
              "          const quickchartButtonEl =\n",
              "            document.querySelector('#' + key + ' button');\n",
              "          quickchartButtonEl.disabled = true;  // To prevent multiple clicks.\n",
              "          quickchartButtonEl.classList.add('colab-df-spinner');\n",
              "          try {\n",
              "            const charts = await google.colab.kernel.invokeFunction(\n",
              "                'suggestCharts', [key], {});\n",
              "          } catch (error) {\n",
              "            console.error('Error during call to suggestCharts:', error);\n",
              "          }\n",
              "          quickchartButtonEl.classList.remove('colab-df-spinner');\n",
              "          quickchartButtonEl.classList.add('colab-df-quickchart-complete');\n",
              "        }\n",
              "        (() => {\n",
              "          let quickchartButtonEl =\n",
              "            document.querySelector('#df-bd7dc692-7d4b-4be7-8ef6-99ca21157e3b button');\n",
              "          quickchartButtonEl.style.display =\n",
              "            google.colab.kernel.accessAllowed ? 'block' : 'none';\n",
              "        })();\n",
              "      </script>\n",
              "    </div>\n",
              "\n",
              "    </div>\n",
              "  </div>\n"
            ],
            "application/vnd.google.colaboratory.intrinsic+json": {
              "type": "dataframe",
              "variable_name": "df"
            }
          },
          "metadata": {},
          "execution_count": 34
        }
      ]
    },
    {
      "cell_type": "markdown",
      "source": [
        "Penjelasan :\n",
        "\n",
        "Setelah menambahkan fitur-fitur baru, DataFrame memiliki 33 kolom, termasuk kolom asli dan fitur tambahan.\n",
        "\n",
        "1. TOTAL_BILL dan TOTAL_PAY menunjukkan total tagihan dan total pembayaran nasabah selama 6 bulan terakhir. Misalnya, nasabah pertama memiliki total tagihan 7.704 dan total pembayaran 689.\n",
        "\n",
        "2. PAY_RATIO memperlihatkan rasio pembayaran terhadap tagihan. Nilai mendekati 1 menandakan pembayaran hampir lunas, sedangkan nilai kecil atau 0 menandakan pembayaran minim atau tidak ada. Contoh, nasabah pertama memiliki rasio 0,089, menandakan sebagian kecil tagihan yang dibayar.\n",
        "\n",
        "3. BILL_RATIO mengukur total tagihan terhadap limit kredit. Nilai >1 menandakan tagihan melebihi limit. Misalnya, nasabah ke-3 memiliki BILL_RATIO 1,129.\n",
        "\n",
        "4. AVG_DELAY menunjukkan rata-rata keterlambatan pembayaran hanya untuk bulan yang terlambat (>0). Nasabah pertama memiliki rata-rata 2 bulan keterlambatan.\n",
        "\n",
        "5. NUM_LATE_MONTHS menghitung jumlah bulan nasabah telat bayar. Nasabah pertama telat 2 bulan.\n",
        "\n",
        "6. UNPAID_RATIO menunjukkan rasio sisa tagihan yang belum dibayar terhadap limit kredit. Nilai >1 berarti sisa tagihan melebihi limit. Misalnya, nasabah ke-3 memiliki rasio 1,007.\n",
        "\n",
        "7. AGE_GROUP mengelompokkan usia nasabah menjadi kategori, memudahkan analisis segmentasi berdasarkan umur. Nasabah pertama berada di kategori 20s, sedangkan nasabah ke-4 di kategori 30s."
      ],
      "metadata": {
        "id": "wXHXX7TBat_o"
      }
    },
    {
      "cell_type": "markdown",
      "source": [
        "### c. Normalisasi"
      ],
      "metadata": {
        "id": "obVwZRY8te2t"
      }
    },
    {
      "cell_type": "code",
      "source": [
        "# Pilih kolom numerik untuk standarisasi\n",
        "numerical_cols = [\n",
        "    'LIMIT_BAL', 'AGE',\n",
        "    'TOTAL_BILL', 'TOTAL_PAY', 'PAY_RATIO',\n",
        "    'BILL_RATIO', 'AVG_DELAY', 'NUM_LATE_MONTHS', 'UNPAID_RATIO'\n",
        "]\n",
        "\n",
        "scaler = StandardScaler()\n",
        "df[numerical_cols] = scaler.fit_transform(df[numerical_cols])\n",
        "\n",
        "df.head()"
      ],
      "metadata": {
        "colab": {
          "base_uri": "https://localhost:8080/",
          "height": 236
        },
        "id": "kHmA0LL3cf23",
        "outputId": "20737a5f-997e-4d71-8e8b-e4880d4533ad"
      },
      "execution_count": null,
      "outputs": [
        {
          "output_type": "execute_result",
          "data": {
            "text/plain": [
              "   ID  LIMIT_BAL  SEX  EDUCATION  MARRIAGE       AGE  PAY_0  PAY_2  PAY_3  \\\n",
              "0   1  -1.136720    2          2         1 -1.246020      2      2     -1   \n",
              "1   2  -0.365981    2          2         2 -1.029047     -1      2      0   \n",
              "2   3  -0.597202    2          2         2 -0.161156      0      0      0   \n",
              "3   4  -0.905498    2          2         1  0.164303      0      0      0   \n",
              "4   5  -0.905498    1          2         1  2.334029     -1      0     -1   \n",
              "\n",
              "   PAY_4  ...  PAY_AMT6  default.payment.next.month  TOTAL_BILL  TOTAL_PAY  \\\n",
              "0     -1  ...       0.0                           1   -0.690692  -0.509027   \n",
              "1      0  ...    2000.0                           1   -0.665997  -0.438153   \n",
              "2      0  ...    5000.0                           0   -0.443170  -0.339216   \n",
              "3      0  ...    1000.0                           0   -0.101507  -0.382454   \n",
              "4      0  ...     679.0                           0   -0.422920   0.450421   \n",
              "\n",
              "   PAY_RATIO  BILL_RATIO  AVG_DELAY  NUM_LATE_MONTHS  UNPAID_RATIO  AGE_GROUP  \n",
              "0  -0.038002   -0.877698   1.480385         0.750059     -0.808317        20s  \n",
              "1  -0.011491   -0.992741   1.480385         0.750059     -0.930539        20s  \n",
              "2  -0.035531   -0.525178  -0.667275        -0.536713     -0.487594        30s  \n",
              "3  -0.044934    1.131240  -0.667275        -0.536713      1.199258        30s  \n",
              "4   0.020743   -0.024396  -0.667275        -0.536713     -0.488208        50s  \n",
              "\n",
              "[5 rows x 33 columns]"
            ],
            "text/html": [
              "\n",
              "  <div id=\"df-fd9e0908-b60a-445a-b4d7-dec4416c4b9d\" class=\"colab-df-container\">\n",
              "    <div>\n",
              "<style scoped>\n",
              "    .dataframe tbody tr th:only-of-type {\n",
              "        vertical-align: middle;\n",
              "    }\n",
              "\n",
              "    .dataframe tbody tr th {\n",
              "        vertical-align: top;\n",
              "    }\n",
              "\n",
              "    .dataframe thead th {\n",
              "        text-align: right;\n",
              "    }\n",
              "</style>\n",
              "<table border=\"1\" class=\"dataframe\">\n",
              "  <thead>\n",
              "    <tr style=\"text-align: right;\">\n",
              "      <th></th>\n",
              "      <th>ID</th>\n",
              "      <th>LIMIT_BAL</th>\n",
              "      <th>SEX</th>\n",
              "      <th>EDUCATION</th>\n",
              "      <th>MARRIAGE</th>\n",
              "      <th>AGE</th>\n",
              "      <th>PAY_0</th>\n",
              "      <th>PAY_2</th>\n",
              "      <th>PAY_3</th>\n",
              "      <th>PAY_4</th>\n",
              "      <th>...</th>\n",
              "      <th>PAY_AMT6</th>\n",
              "      <th>default.payment.next.month</th>\n",
              "      <th>TOTAL_BILL</th>\n",
              "      <th>TOTAL_PAY</th>\n",
              "      <th>PAY_RATIO</th>\n",
              "      <th>BILL_RATIO</th>\n",
              "      <th>AVG_DELAY</th>\n",
              "      <th>NUM_LATE_MONTHS</th>\n",
              "      <th>UNPAID_RATIO</th>\n",
              "      <th>AGE_GROUP</th>\n",
              "    </tr>\n",
              "  </thead>\n",
              "  <tbody>\n",
              "    <tr>\n",
              "      <th>0</th>\n",
              "      <td>1</td>\n",
              "      <td>-1.136720</td>\n",
              "      <td>2</td>\n",
              "      <td>2</td>\n",
              "      <td>1</td>\n",
              "      <td>-1.246020</td>\n",
              "      <td>2</td>\n",
              "      <td>2</td>\n",
              "      <td>-1</td>\n",
              "      <td>-1</td>\n",
              "      <td>...</td>\n",
              "      <td>0.0</td>\n",
              "      <td>1</td>\n",
              "      <td>-0.690692</td>\n",
              "      <td>-0.509027</td>\n",
              "      <td>-0.038002</td>\n",
              "      <td>-0.877698</td>\n",
              "      <td>1.480385</td>\n",
              "      <td>0.750059</td>\n",
              "      <td>-0.808317</td>\n",
              "      <td>20s</td>\n",
              "    </tr>\n",
              "    <tr>\n",
              "      <th>1</th>\n",
              "      <td>2</td>\n",
              "      <td>-0.365981</td>\n",
              "      <td>2</td>\n",
              "      <td>2</td>\n",
              "      <td>2</td>\n",
              "      <td>-1.029047</td>\n",
              "      <td>-1</td>\n",
              "      <td>2</td>\n",
              "      <td>0</td>\n",
              "      <td>0</td>\n",
              "      <td>...</td>\n",
              "      <td>2000.0</td>\n",
              "      <td>1</td>\n",
              "      <td>-0.665997</td>\n",
              "      <td>-0.438153</td>\n",
              "      <td>-0.011491</td>\n",
              "      <td>-0.992741</td>\n",
              "      <td>1.480385</td>\n",
              "      <td>0.750059</td>\n",
              "      <td>-0.930539</td>\n",
              "      <td>20s</td>\n",
              "    </tr>\n",
              "    <tr>\n",
              "      <th>2</th>\n",
              "      <td>3</td>\n",
              "      <td>-0.597202</td>\n",
              "      <td>2</td>\n",
              "      <td>2</td>\n",
              "      <td>2</td>\n",
              "      <td>-0.161156</td>\n",
              "      <td>0</td>\n",
              "      <td>0</td>\n",
              "      <td>0</td>\n",
              "      <td>0</td>\n",
              "      <td>...</td>\n",
              "      <td>5000.0</td>\n",
              "      <td>0</td>\n",
              "      <td>-0.443170</td>\n",
              "      <td>-0.339216</td>\n",
              "      <td>-0.035531</td>\n",
              "      <td>-0.525178</td>\n",
              "      <td>-0.667275</td>\n",
              "      <td>-0.536713</td>\n",
              "      <td>-0.487594</td>\n",
              "      <td>30s</td>\n",
              "    </tr>\n",
              "    <tr>\n",
              "      <th>3</th>\n",
              "      <td>4</td>\n",
              "      <td>-0.905498</td>\n",
              "      <td>2</td>\n",
              "      <td>2</td>\n",
              "      <td>1</td>\n",
              "      <td>0.164303</td>\n",
              "      <td>0</td>\n",
              "      <td>0</td>\n",
              "      <td>0</td>\n",
              "      <td>0</td>\n",
              "      <td>...</td>\n",
              "      <td>1000.0</td>\n",
              "      <td>0</td>\n",
              "      <td>-0.101507</td>\n",
              "      <td>-0.382454</td>\n",
              "      <td>-0.044934</td>\n",
              "      <td>1.131240</td>\n",
              "      <td>-0.667275</td>\n",
              "      <td>-0.536713</td>\n",
              "      <td>1.199258</td>\n",
              "      <td>30s</td>\n",
              "    </tr>\n",
              "    <tr>\n",
              "      <th>4</th>\n",
              "      <td>5</td>\n",
              "      <td>-0.905498</td>\n",
              "      <td>1</td>\n",
              "      <td>2</td>\n",
              "      <td>1</td>\n",
              "      <td>2.334029</td>\n",
              "      <td>-1</td>\n",
              "      <td>0</td>\n",
              "      <td>-1</td>\n",
              "      <td>0</td>\n",
              "      <td>...</td>\n",
              "      <td>679.0</td>\n",
              "      <td>0</td>\n",
              "      <td>-0.422920</td>\n",
              "      <td>0.450421</td>\n",
              "      <td>0.020743</td>\n",
              "      <td>-0.024396</td>\n",
              "      <td>-0.667275</td>\n",
              "      <td>-0.536713</td>\n",
              "      <td>-0.488208</td>\n",
              "      <td>50s</td>\n",
              "    </tr>\n",
              "  </tbody>\n",
              "</table>\n",
              "<p>5 rows × 33 columns</p>\n",
              "</div>\n",
              "    <div class=\"colab-df-buttons\">\n",
              "\n",
              "  <div class=\"colab-df-container\">\n",
              "    <button class=\"colab-df-convert\" onclick=\"convertToInteractive('df-fd9e0908-b60a-445a-b4d7-dec4416c4b9d')\"\n",
              "            title=\"Convert this dataframe to an interactive table.\"\n",
              "            style=\"display:none;\">\n",
              "\n",
              "  <svg xmlns=\"http://www.w3.org/2000/svg\" height=\"24px\" viewBox=\"0 -960 960 960\">\n",
              "    <path d=\"M120-120v-720h720v720H120Zm60-500h600v-160H180v160Zm220 220h160v-160H400v160Zm0 220h160v-160H400v160ZM180-400h160v-160H180v160Zm440 0h160v-160H620v160ZM180-180h160v-160H180v160Zm440 0h160v-160H620v160Z\"/>\n",
              "  </svg>\n",
              "    </button>\n",
              "\n",
              "  <style>\n",
              "    .colab-df-container {\n",
              "      display:flex;\n",
              "      gap: 12px;\n",
              "    }\n",
              "\n",
              "    .colab-df-convert {\n",
              "      background-color: #E8F0FE;\n",
              "      border: none;\n",
              "      border-radius: 50%;\n",
              "      cursor: pointer;\n",
              "      display: none;\n",
              "      fill: #1967D2;\n",
              "      height: 32px;\n",
              "      padding: 0 0 0 0;\n",
              "      width: 32px;\n",
              "    }\n",
              "\n",
              "    .colab-df-convert:hover {\n",
              "      background-color: #E2EBFA;\n",
              "      box-shadow: 0px 1px 2px rgba(60, 64, 67, 0.3), 0px 1px 3px 1px rgba(60, 64, 67, 0.15);\n",
              "      fill: #174EA6;\n",
              "    }\n",
              "\n",
              "    .colab-df-buttons div {\n",
              "      margin-bottom: 4px;\n",
              "    }\n",
              "\n",
              "    [theme=dark] .colab-df-convert {\n",
              "      background-color: #3B4455;\n",
              "      fill: #D2E3FC;\n",
              "    }\n",
              "\n",
              "    [theme=dark] .colab-df-convert:hover {\n",
              "      background-color: #434B5C;\n",
              "      box-shadow: 0px 1px 3px 1px rgba(0, 0, 0, 0.15);\n",
              "      filter: drop-shadow(0px 1px 2px rgba(0, 0, 0, 0.3));\n",
              "      fill: #FFFFFF;\n",
              "    }\n",
              "  </style>\n",
              "\n",
              "    <script>\n",
              "      const buttonEl =\n",
              "        document.querySelector('#df-fd9e0908-b60a-445a-b4d7-dec4416c4b9d button.colab-df-convert');\n",
              "      buttonEl.style.display =\n",
              "        google.colab.kernel.accessAllowed ? 'block' : 'none';\n",
              "\n",
              "      async function convertToInteractive(key) {\n",
              "        const element = document.querySelector('#df-fd9e0908-b60a-445a-b4d7-dec4416c4b9d');\n",
              "        const dataTable =\n",
              "          await google.colab.kernel.invokeFunction('convertToInteractive',\n",
              "                                                    [key], {});\n",
              "        if (!dataTable) return;\n",
              "\n",
              "        const docLinkHtml = 'Like what you see? Visit the ' +\n",
              "          '<a target=\"_blank\" href=https://colab.research.google.com/notebooks/data_table.ipynb>data table notebook</a>'\n",
              "          + ' to learn more about interactive tables.';\n",
              "        element.innerHTML = '';\n",
              "        dataTable['output_type'] = 'display_data';\n",
              "        await google.colab.output.renderOutput(dataTable, element);\n",
              "        const docLink = document.createElement('div');\n",
              "        docLink.innerHTML = docLinkHtml;\n",
              "        element.appendChild(docLink);\n",
              "      }\n",
              "    </script>\n",
              "  </div>\n",
              "\n",
              "\n",
              "    <div id=\"df-1d0f9f13-3e97-44ee-b84f-d6359a33b753\">\n",
              "      <button class=\"colab-df-quickchart\" onclick=\"quickchart('df-1d0f9f13-3e97-44ee-b84f-d6359a33b753')\"\n",
              "                title=\"Suggest charts\"\n",
              "                style=\"display:none;\">\n",
              "\n",
              "<svg xmlns=\"http://www.w3.org/2000/svg\" height=\"24px\"viewBox=\"0 0 24 24\"\n",
              "     width=\"24px\">\n",
              "    <g>\n",
              "        <path d=\"M19 3H5c-1.1 0-2 .9-2 2v14c0 1.1.9 2 2 2h14c1.1 0 2-.9 2-2V5c0-1.1-.9-2-2-2zM9 17H7v-7h2v7zm4 0h-2V7h2v10zm4 0h-2v-4h2v4z\"/>\n",
              "    </g>\n",
              "</svg>\n",
              "      </button>\n",
              "\n",
              "<style>\n",
              "  .colab-df-quickchart {\n",
              "      --bg-color: #E8F0FE;\n",
              "      --fill-color: #1967D2;\n",
              "      --hover-bg-color: #E2EBFA;\n",
              "      --hover-fill-color: #174EA6;\n",
              "      --disabled-fill-color: #AAA;\n",
              "      --disabled-bg-color: #DDD;\n",
              "  }\n",
              "\n",
              "  [theme=dark] .colab-df-quickchart {\n",
              "      --bg-color: #3B4455;\n",
              "      --fill-color: #D2E3FC;\n",
              "      --hover-bg-color: #434B5C;\n",
              "      --hover-fill-color: #FFFFFF;\n",
              "      --disabled-bg-color: #3B4455;\n",
              "      --disabled-fill-color: #666;\n",
              "  }\n",
              "\n",
              "  .colab-df-quickchart {\n",
              "    background-color: var(--bg-color);\n",
              "    border: none;\n",
              "    border-radius: 50%;\n",
              "    cursor: pointer;\n",
              "    display: none;\n",
              "    fill: var(--fill-color);\n",
              "    height: 32px;\n",
              "    padding: 0;\n",
              "    width: 32px;\n",
              "  }\n",
              "\n",
              "  .colab-df-quickchart:hover {\n",
              "    background-color: var(--hover-bg-color);\n",
              "    box-shadow: 0 1px 2px rgba(60, 64, 67, 0.3), 0 1px 3px 1px rgba(60, 64, 67, 0.15);\n",
              "    fill: var(--button-hover-fill-color);\n",
              "  }\n",
              "\n",
              "  .colab-df-quickchart-complete:disabled,\n",
              "  .colab-df-quickchart-complete:disabled:hover {\n",
              "    background-color: var(--disabled-bg-color);\n",
              "    fill: var(--disabled-fill-color);\n",
              "    box-shadow: none;\n",
              "  }\n",
              "\n",
              "  .colab-df-spinner {\n",
              "    border: 2px solid var(--fill-color);\n",
              "    border-color: transparent;\n",
              "    border-bottom-color: var(--fill-color);\n",
              "    animation:\n",
              "      spin 1s steps(1) infinite;\n",
              "  }\n",
              "\n",
              "  @keyframes spin {\n",
              "    0% {\n",
              "      border-color: transparent;\n",
              "      border-bottom-color: var(--fill-color);\n",
              "      border-left-color: var(--fill-color);\n",
              "    }\n",
              "    20% {\n",
              "      border-color: transparent;\n",
              "      border-left-color: var(--fill-color);\n",
              "      border-top-color: var(--fill-color);\n",
              "    }\n",
              "    30% {\n",
              "      border-color: transparent;\n",
              "      border-left-color: var(--fill-color);\n",
              "      border-top-color: var(--fill-color);\n",
              "      border-right-color: var(--fill-color);\n",
              "    }\n",
              "    40% {\n",
              "      border-color: transparent;\n",
              "      border-right-color: var(--fill-color);\n",
              "      border-top-color: var(--fill-color);\n",
              "    }\n",
              "    60% {\n",
              "      border-color: transparent;\n",
              "      border-right-color: var(--fill-color);\n",
              "    }\n",
              "    80% {\n",
              "      border-color: transparent;\n",
              "      border-right-color: var(--fill-color);\n",
              "      border-bottom-color: var(--fill-color);\n",
              "    }\n",
              "    90% {\n",
              "      border-color: transparent;\n",
              "      border-bottom-color: var(--fill-color);\n",
              "    }\n",
              "  }\n",
              "</style>\n",
              "\n",
              "      <script>\n",
              "        async function quickchart(key) {\n",
              "          const quickchartButtonEl =\n",
              "            document.querySelector('#' + key + ' button');\n",
              "          quickchartButtonEl.disabled = true;  // To prevent multiple clicks.\n",
              "          quickchartButtonEl.classList.add('colab-df-spinner');\n",
              "          try {\n",
              "            const charts = await google.colab.kernel.invokeFunction(\n",
              "                'suggestCharts', [key], {});\n",
              "          } catch (error) {\n",
              "            console.error('Error during call to suggestCharts:', error);\n",
              "          }\n",
              "          quickchartButtonEl.classList.remove('colab-df-spinner');\n",
              "          quickchartButtonEl.classList.add('colab-df-quickchart-complete');\n",
              "        }\n",
              "        (() => {\n",
              "          let quickchartButtonEl =\n",
              "            document.querySelector('#df-1d0f9f13-3e97-44ee-b84f-d6359a33b753 button');\n",
              "          quickchartButtonEl.style.display =\n",
              "            google.colab.kernel.accessAllowed ? 'block' : 'none';\n",
              "        })();\n",
              "      </script>\n",
              "    </div>\n",
              "\n",
              "    </div>\n",
              "  </div>\n"
            ],
            "application/vnd.google.colaboratory.intrinsic+json": {
              "type": "dataframe",
              "variable_name": "df"
            }
          },
          "metadata": {},
          "execution_count": 36
        }
      ]
    },
    {
      "cell_type": "markdown",
      "source": [
        "Penjelasan :\n",
        "\n",
        "Setelah standarisasi, semua fitur numerik memiliki mean = 0 dan standar deviasi = 1, sehingga skala setiap fitur sebanding. Nilai negatif menunjukkan di bawah rata-rata, nilai positif di atas rata-rata. Contohnya, LIMIT_BAL nasabah pertama bernilai -1,136, artinya lebih rendah dari rata-rata."
      ],
      "metadata": {
        "id": "J3fPSZMDuCtq"
      }
    },
    {
      "cell_type": "markdown",
      "source": [
        "# SOAL 3 : Hasil clustering KMeans dan DBSCAN, lengkap dengan :\n",
        "## o Nilai Silhouette dan Davies–Bouldin\n",
        "## o Visualisasi 2D (PCA/TSNE opsional)"
      ],
      "metadata": {
        "id": "pnSqExaued5f"
      }
    },
    {
      "cell_type": "markdown",
      "source": [
        "### a. Hasil Clustering K-Means"
      ],
      "metadata": {
        "id": "iOcqFghhu8dV"
      }
    },
    {
      "cell_type": "code",
      "source": [
        "# ----------------------------\n",
        "# KMeans Clustering\n",
        "# ----------------------------\n",
        "X_scaled = df[numerical_cols].values\n",
        "kmeans = KMeans(n_clusters=3, random_state=42)\n",
        "labels_kmeans = kmeans.fit_predict(X_scaled)\n",
        "\n",
        "# Evaluasi KMeans\n",
        "print(\"KMeans Silhouette:\", silhouette_score(X_scaled, labels_kmeans))\n",
        "print(\"KMeans Davies-Bouldin:\", davies_bouldin_score(X_scaled, labels_kmeans))\n",
        "\n",
        "# Visualisasi Clustering (2D PCA)\n",
        "pca = PCA(n_components=2)\n",
        "X_pca = pca.fit_transform(X_scaled)\n",
        "\n",
        "plt.figure(figsize=(6,5))\n",
        "plt.scatter(X_pca[:,0], X_pca[:,1], c=labels_kmeans, cmap='viridis')\n",
        "plt.title(\"KMeans Clustering Visualization\")\n",
        "plt.xlabel(\"PCA 1\")\n",
        "plt.ylabel(\"PCA 2\")\n",
        "plt.show()"
      ],
      "metadata": {
        "colab": {
          "base_uri": "https://localhost:8080/",
          "height": 525
        },
        "id": "fqbewJ0kgBKY",
        "outputId": "648d84fc-27f1-415d-d0fc-7edb65703ae4"
      },
      "execution_count": null,
      "outputs": [
        {
          "output_type": "stream",
          "name": "stdout",
          "text": [
            "KMeans Silhouette: 0.297981296122969\n",
            "KMeans Davies-Bouldin: 1.4390048393015162\n"
          ]
        },
        {
          "output_type": "display_data",
          "data": {
            "text/plain": [
              "<Figure size 600x500 with 1 Axes>"
            ],
            "image/png": "[encoded data removed]"
          },
          "metadata": {}
        }
      ]
    },
    {
      "cell_type": "markdown",
      "source": [
        "Penjelasan :\n",
        "\n",
        "Visualisasi menggunakan PCA 2D menunjukkan hasil clustering dengan KMeans. Setiap titik mewakili satu nasabah, dan warnanya menunjukkan cluster yang terbentuk. Cluster terlihat sebagian besar terpisah, meskipun ada beberapa titik yang tersebar di antar cluster, menunjukkan kemungkinan tumpang tindih. Nilai Silhouette Score = 0,298 menunjukkan pemisahan cluster sedang, sedangkan Davies-Bouldin Index = 1,439 menandakan cluster relatif rapat dan homogen.\n"
      ],
      "metadata": {
        "id": "QZgR3GsTvlNN"
      }
    },
    {
      "cell_type": "markdown",
      "source": [
        "### b. Hasil Clustering DBSCAN"
      ],
      "metadata": {
        "id": "2Ju_2v2UvDSA"
      }
    },
    {
      "cell_type": "code",
      "source": [
        "# ----------------------------\n",
        "# DBSCAN Clustering\n",
        "# ----------------------------\n",
        "dbscan = DBSCAN(eps=1.5, min_samples=5)\n",
        "labels_dbscan = dbscan.fit_predict(X_scaled)\n",
        "\n",
        "# Evaluasi DBSCAN\n",
        "if len(set(labels_dbscan)) > 1:\n",
        "    print(\"DBSCAN Silhouette:\", silhouette_score(X_scaled, labels_dbscan))\n",
        "    print(\"DBSCAN Davies-Bouldin:\", davies_bouldin_score(X_scaled, labels_dbscan))\n",
        "else:\n",
        "    print(\"DBSCAN hanya menghasilkan 1 cluster → evaluasi tidak dapat dilakukan.\")\n",
        "\n",
        "# Visualisasi Clustering (2D PCA)\n",
        "plt.figure(figsize=(6,5))\n",
        "plt.scatter(X_pca[:,0], X_pca[:,1], c=labels_dbscan, cmap='viridis')\n",
        "plt.title(\"DBSCAN Clustering Visualization\")\n",
        "plt.xlabel(\"PCA 1\")\n",
        "plt.ylabel(\"PCA 2\")\n",
        "plt.show()"
      ],
      "metadata": {
        "colab": {
          "base_uri": "https://localhost:8080/",
          "height": 525
        },
        "id": "pARI2YTmgFQq",
        "outputId": "1104b3b7-ce9c-4e53-c508-946c405a7c89"
      },
      "execution_count": null,
      "outputs": [
        {
          "output_type": "stream",
          "name": "stdout",
          "text": [
            "DBSCAN Silhouette: 0.49626010443493085\n",
            "DBSCAN Davies-Bouldin: 2.1373546829952517\n"
          ]
        },
        {
          "output_type": "display_data",
          "data": {
            "text/plain": [
              "<Figure size 600x500 with 1 Axes>"
            ],
            "image/png": "[encoded data removed]"
          },
          "metadata": {}
        }
      ]
    },
    {
      "cell_type": "markdown",
      "source": [
        "Penjelasan :\n",
        "\n",
        "Gambar tersebut menampilkan hasil clustering menggunakan DBSCAN setelah reduksi dimensi dengan PCA. Titik-titik berwarna menunjukkan cluster yang terbentuk, sedangkan titik terpisah merupakan noise. Nilai Silhouette (0,496) menandakan pemisahan cluster cukup baik, sementara Davies–Bouldin (2,137) menunjukkan masih ada sedikit tumpang tindih antar cluster."
      ],
      "metadata": {
        "id": "vmBIE_1VwP2Q"
      }
    },
    {
      "cell_type": "markdown",
      "source": [
        "# SOAL 4 : Implementasi Annoy :\n",
        "## o Pemilihan 3–5 titik query secara acak\n",
        "## o Output index dan tetangga terdekat dengan nilai jaraknya"
      ],
      "metadata": {
        "id": "yI3C2wpTwdZp"
      }
    },
    {
      "cell_type": "code",
      "source": [
        "# ----------------------------\n",
        "# Siapkan Annoy Index\n",
        "# ----------------------------\n",
        "dim = X_scaled.shape[1]  # jumlah fitur\n",
        "ann = AnnoyIndex(dim, 'euclidean')\n",
        "\n",
        "# Tambahkan semua data ke index\n",
        "for i in range(X_scaled.shape[0]):\n",
        "    ann.add_item(i, X_scaled[i])\n",
        "\n",
        "# Build index (trees=10 atau lebih, semakin banyak semakin akurat)\n",
        "ann.build(n_trees=10)\n",
        "\n",
        "# ----------------------------\n",
        "# Pilih 3–5 query point secara acak\n",
        "# ----------------------------\n",
        "np.random.seed(42)\n",
        "query_indices = np.random.choice(X_scaled.shape[0], size=5, replace=False)\n",
        "\n",
        "# ----------------------------\n",
        "# Cari nearest neighbors\n",
        "# ----------------------------\n",
        "for query_idx in query_indices:\n",
        "    neighbors, distances = ann.get_nns_by_item(query_idx, n=5, include_distances=True)\n",
        "    print(f\"\\nQuery Point Index: {query_idx}\")\n",
        "    print(\"Nearest Neighbors and Distances:\")\n",
        "    for n, d in zip(neighbors, distances):\n",
        "        print(f\"Neighbor Index: {n} | Distance: {d:.4f} | Cluster (KMeans): {labels_kmeans[n]}\")"
      ],
      "metadata": {
        "colab": {
          "base_uri": "https://localhost:8080/"
        },
        "id": "ybNOzyL2ho7Z",
        "outputId": "04cf4ec7-0078-4782-ac86-c12b70b5aae0"
      },
      "execution_count": null,
      "outputs": [
        {
          "output_type": "stream",
          "name": "stdout",
          "text": [
            "\n",
            "Query Point Index: 2308\n",
            "Nearest Neighbors and Distances:\n",
            "Neighbor Index: 2308 | Distance: 0.0000 | Cluster (KMeans): 1\n",
            "Neighbor Index: 27700 | Distance: 0.0577 | Cluster (KMeans): 1\n",
            "Neighbor Index: 154 | Distance: 0.1134 | Cluster (KMeans): 1\n",
            "Neighbor Index: 27689 | Distance: 0.1174 | Cluster (KMeans): 1\n",
            "Neighbor Index: 26624 | Distance: 0.1584 | Cluster (KMeans): 1\n",
            "\n",
            "Query Point Index: 22404\n",
            "Nearest Neighbors and Distances:\n",
            "Neighbor Index: 22404 | Distance: 0.0000 | Cluster (KMeans): 0\n",
            "Neighbor Index: 2878 | Distance: 0.0181 | Cluster (KMeans): 0\n",
            "Neighbor Index: 5378 | Distance: 0.0434 | Cluster (KMeans): 0\n",
            "Neighbor Index: 10719 | Distance: 0.1281 | Cluster (KMeans): 0\n",
            "Neighbor Index: 11250 | Distance: 0.1381 | Cluster (KMeans): 0\n",
            "\n",
            "Query Point Index: 23397\n",
            "Nearest Neighbors and Distances:\n",
            "Neighbor Index: 23397 | Distance: 0.0000 | Cluster (KMeans): 2\n",
            "Neighbor Index: 19283 | Distance: 0.0540 | Cluster (KMeans): 2\n",
            "Neighbor Index: 26902 | Distance: 0.0601 | Cluster (KMeans): 2\n",
            "Neighbor Index: 516 | Distance: 0.0819 | Cluster (KMeans): 2\n",
            "Neighbor Index: 14946 | Distance: 0.1103 | Cluster (KMeans): 2\n",
            "\n",
            "Query Point Index: 25058\n",
            "Nearest Neighbors and Distances:\n",
            "Neighbor Index: 25058 | Distance: 0.0000 | Cluster (KMeans): 1\n",
            "Neighbor Index: 1930 | Distance: 0.1338 | Cluster (KMeans): 1\n",
            "Neighbor Index: 17404 | Distance: 0.2154 | Cluster (KMeans): 1\n",
            "Neighbor Index: 12440 | Distance: 0.2269 | Cluster (KMeans): 1\n",
            "Neighbor Index: 10886 | Distance: 0.3259 | Cluster (KMeans): 1\n",
            "\n",
            "Query Point Index: 2664\n",
            "Nearest Neighbors and Distances:\n",
            "Neighbor Index: 2664 | Distance: 0.0000 | Cluster (KMeans): 2\n",
            "Neighbor Index: 19389 | Distance: 0.1207 | Cluster (KMeans): 2\n",
            "Neighbor Index: 18136 | Distance: 0.1365 | Cluster (KMeans): 2\n",
            "Neighbor Index: 2278 | Distance: 0.1920 | Cluster (KMeans): 2\n",
            "Neighbor Index: 21078 | Distance: 0.3078 | Cluster (KMeans): 2\n"
          ]
        }
      ]
    },
    {
      "cell_type": "markdown",
      "source": [
        "Penjelasan :\n",
        "\n",
        "Hasil di atas menunjukkan penerapan Annoy untuk menemukan tetangga terdekat (nearest neighbors) dari beberapa titik acak dalam dataset. Setiap query point memiliki lima tetangga dengan jarak Euclidean yang kecil, menunjukkan kemiripan tinggi antar data. Misalnya, titik dengan index 2308 dan tetangganya semuanya berada di cluster KMeans 1, menandakan konsistensi antar anggota cluster. Pola serupa juga terlihat pada titik lain seperti 22404 (cluster 0) dan 23397 (cluster 2), yang menunjukkan bahwa algoritma Annoy berhasil menemukan data yang memiliki karakteristik mirip di dalam cluster yang sama."
      ],
      "metadata": {
        "id": "oS0Ian2gxN9t"
      }
    }
  ]
}